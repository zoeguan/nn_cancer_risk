{
 "cells": [
  {
   "cell_type": "code",
   "execution_count": 31,
   "metadata": {
    "collapsed": true
   },
   "outputs": [],
   "source": [
    "from __future__ import absolute_import\n",
    "from __future__ import division\n",
    "from __future__ import print_function\n",
    "\n",
    "import numpy as np\n",
    "from sklearn.base import BaseEstimator, ClassifierMixin\n",
    "from sklearn.exceptions import NotFittedError\n",
    "from datetime import datetime\n",
    "from sklearn.preprocessing import MinMaxScaler\n",
    "\n",
    "import os\n",
    "import urllib\n",
    "\n",
    "import pandas as pd\n",
    "from sklearn.metrics import roc_auc_score\n",
    "from scipy.stats.stats import pearsonr  \n",
    "from scipy.stats.stats import spearmanr\n",
    "\n",
    "import sys\n",
    "\n",
    "import random\n",
    "\n",
    "from sklearn.linear_model import LogisticRegression\n",
    "\n",
    "os.environ['KERAS_BACKEND'] = 'theano'\n",
    "\n",
    "from keras.models import Sequential\n",
    "from keras.layers import Dense, Activation, Flatten, Reshape\n",
    "from keras.optimizers import adam, RMSprop\n",
    "from keras.regularizers import l2, l1\n",
    "from keras.callbacks import EarlyStopping, ModelCheckpoint\n",
    "from keras.layers import Dropout\n",
    "\n",
    "from graph_convolution import GraphConv\n",
    "from graph_convolution_pro import GraphConvPro\n",
    "\n",
    "import keras.backend as K\n"
   ]
  },
  {
   "cell_type": "code",
   "execution_count": 32,
   "metadata": {
    "collapsed": true
   },
   "outputs": [],
   "source": [
    "### helper functions\n",
    "\n",
    "# function for calculating calibration\n",
    "def calc_oe(y_true, y_scores):\n",
    "    return(np.sum(y_true)/np.sum(y_scores))\n",
    "\n",
    "# function for calculating Brier Score\n",
    "def calc_bs(y_true, y_scores):\n",
    "    return(np.sqrt(np.mean((y_true-y_scores)**2)))\n",
    "\n",
    "# function for calculating bootstrap CIs for AUC, calibration, Brier Score\n",
    "def boot(y_scores, y_true, nboot=200, seed_value=0):\n",
    "    np.random.seed(seed_value)\n",
    "    auc_actual = roc_auc_score(y_true, y_scores)\n",
    "    oe_actual = calc_oe(y_true, y_scores)\n",
    "    bs_actual = calc_bs(y_true, y_scores)\n",
    "    \n",
    "    \n",
    "    auc = np.zeros(nboot)\n",
    "    oe = np.zeros(nboot)\n",
    "    bs = np.zeros(nboot)\n",
    "    \n",
    "    \n",
    "    for i in range(nboot):\n",
    "        ind = np.random.choice(range(len(y_scores)), len(y_scores))\n",
    "        scores_boot = y_scores[ind]\n",
    "        outcomes_boot = y_true[ind]\n",
    "        auc[i] = roc_auc_score(outcomes_boot, scores_boot)\n",
    "        oe[i] = calc_oe(outcomes_boot, scores_boot)\n",
    "        bs[i] = calc_bs(outcomes_boot, scores_boot)\n",
    "\n",
    "    return(auc_actual, np.percentile(auc, 2.5), np.percentile(auc, 97.5),\n",
    "           oe_actual, np.percentile(oe, 2.5), np.percentile(oe, 97.5),\n",
    "           bs_actual, np.percentile(bs, 2.5), np.percentile(bs, 97.5))\n",
    "\n",
    "def boot_cor(y_scores, pred_brca, nboot=200, seed_value=0):\n",
    "    np.random.seed(seed_value)\n",
    "    cor_actual = pearsonr(y_scores, pred_brca)[0]\n",
    "    cor = np.zeros(nboot)\n",
    "\n",
    "    for i in range(nboot):\n",
    "        ind = np.random.choice(range(len(y_scores)), len(y_scores))\n",
    "        scores_boot = y_scores[ind]\n",
    "        cor[i] = pearsonr(scores_boot, pred_brca[ind])[0]\n",
    "\n",
    "    return(cor_actual, np.percentile(cor, 2.5), np.percentile(cor, 97.5))"
   ]
  },
  {
   "cell_type": "code",
   "execution_count": null,
   "metadata": {
    "collapsed": true
   },
   "outputs": [],
   "source": []
  },
  {
   "cell_type": "code",
   "execution_count": 33,
   "metadata": {
    "collapsed": true
   },
   "outputs": [],
   "source": [
    "nn_input = pd.read_csv('../nn_input/nn_input_noise.csv', low_memory=False)\n",
    "\n",
    "train_size = 800000\n",
    "test_size = 87353\n",
    "start_x = 2\n",
    "end_x = 198-14\n",
    "ind_y = 202+1-14\n",
    "ind_brcapro = 200+1-14\n",
    "pred_brca = np.array(nn_input.iloc[0:test_size, ind_brcapro])\n",
    "\n",
    "scaler = MinMaxScaler().fit(nn_input.iloc[test_size:test_size+train_size, start_x:end_x])\n",
    "scaler = MinMaxScaler().fit(nn_input.iloc[test_size:test_size+train_size, start_x:end_x])\n",
    "X_train = np.array(scaler.transform(nn_input.iloc[test_size:test_size+train_size, start_x:end_x]))\n",
    "y_train = np.array(nn_input.iloc[test_size:test_size+train_size, ind_y])\n",
    "\n",
    "X_test = np.array(scaler.transform(nn_input.iloc[0:test_size, start_x:end_x]))\n",
    "y_test = np.array(nn_input.iloc[0:test_size, ind_y])"
   ]
  },
  {
   "cell_type": "code",
   "execution_count": null,
   "metadata": {
    "collapsed": true
   },
   "outputs": [],
   "source": []
  },
  {
   "cell_type": "code",
   "execution_count": 34,
   "metadata": {
    "collapsed": true
   },
   "outputs": [],
   "source": [
    "perf_brca = boot(pred_brca, y_test)"
   ]
  },
  {
   "cell_type": "code",
   "execution_count": 35,
   "metadata": {
    "collapsed": true
   },
   "outputs": [],
   "source": [
    "results_brca ={'auc': perf_brca[0:3],\n",
    "         'oe': perf_brca[3:6],\n",
    "         'bs': perf_brca[6:9]}\n",
    "\n",
    "results_brca_df = pd.DataFrame(data=results_brca)\n",
    "results_brca_df.to_csv(\"../results/res_brca_noise.csv\")"
   ]
  },
  {
   "cell_type": "code",
   "execution_count": 4,
   "metadata": {
    "collapsed": true
   },
   "outputs": [],
   "source": []
  },
  {
   "cell_type": "code",
   "execution_count": 5,
   "metadata": {
    "collapsed": true
   },
   "outputs": [],
   "source": []
  },
  {
   "cell_type": "code",
   "execution_count": null,
   "metadata": {
    "collapsed": true
   },
   "outputs": [],
   "source": []
  },
  {
   "cell_type": "markdown",
   "metadata": {
    "collapsed": true
   },
   "source": [
    "### bootstrap replicates "
   ]
  },
  {
   "cell_type": "code",
   "execution_count": 36,
   "metadata": {
    "collapsed": true
   },
   "outputs": [],
   "source": [
    "pr_lr = pd.read_csv('../results/pred_lr_noise.csv')"
   ]
  },
  {
   "cell_type": "code",
   "execution_count": 40,
   "metadata": {
    "collapsed": true
   },
   "outputs": [],
   "source": [
    "pred_lr = np.array(pr_lr.iloc[:, 2])"
   ]
  },
  {
   "cell_type": "code",
   "execution_count": 37,
   "metadata": {
    "collapsed": true
   },
   "outputs": [],
   "source": [
    "pr_fcnn = pd.read_csv('../results/pred_noise800000_50_0.csv')\n",
    "pred_fcnn = np.array(pr_fcnn.iloc[:, 1])"
   ]
  },
  {
   "cell_type": "code",
   "execution_count": 38,
   "metadata": {
    "collapsed": true
   },
   "outputs": [],
   "source": [
    "pred_fcnn = np.array(pr_fcnn.iloc[:, 1])"
   ]
  },
  {
   "cell_type": "code",
   "execution_count": 39,
   "metadata": {
    "collapsed": true
   },
   "outputs": [],
   "source": [
    "pred_brca = np.array(pr_fcnn.iloc[:, 2])"
   ]
  },
  {
   "cell_type": "code",
   "execution_count": 41,
   "metadata": {
    "collapsed": true
   },
   "outputs": [],
   "source": [
    "pr_cnn = pd.read_csv(\"../results/pred_cnn_noise800000_15_0.csv\")"
   ]
  },
  {
   "cell_type": "code",
   "execution_count": 42,
   "metadata": {
    "collapsed": true
   },
   "outputs": [],
   "source": [
    "pred_cnn = np.array(pr_cnn.iloc[:, 1])"
   ]
  },
  {
   "cell_type": "code",
   "execution_count": 44,
   "metadata": {
    "collapsed": true
   },
   "outputs": [],
   "source": []
  },
  {
   "cell_type": "code",
   "execution_count": 45,
   "metadata": {
    "collapsed": true
   },
   "outputs": [],
   "source": [
    "nboot = 1000\n",
    "oe = np.zeros((4, nboot))\n",
    "auc = np.zeros((4, nboot))\n",
    "bs = np.zeros((4, nboot))"
   ]
  },
  {
   "cell_type": "code",
   "execution_count": 46,
   "metadata": {
    "collapsed": true
   },
   "outputs": [],
   "source": [
    "np.random.seed(0)\n",
    "for i in range(nboot):\n",
    "    ind = np.random.choice(range(len(y_test)), len(y_test))\n",
    "    outcomes_boot = y_test[ind]\n",
    "    \n",
    "    auc[0, i] = roc_auc_score(outcomes_boot, pred_fcnn[ind])\n",
    "    oe[0, i] = calc_oe(outcomes_boot, pred_fcnn[ind])\n",
    "    bs[0, i] = calc_bs(outcomes_boot, pred_fcnn[ind])\n",
    "    \n",
    "    auc[1, i] = roc_auc_score(outcomes_boot, pred_cnn[ind])\n",
    "    oe[1, i] = calc_oe(outcomes_boot, pred_cnn[ind])\n",
    "    bs[1, i] = calc_bs(outcomes_boot, pred_cnn[ind])\n",
    "    \n",
    "    auc[2, i] = roc_auc_score(outcomes_boot, pred_brca[ind])\n",
    "    oe[2, i] = calc_oe(outcomes_boot, pred_brca[ind])\n",
    "    bs[2, i] = calc_bs(outcomes_boot, pred_brca[ind])\n",
    "    \n",
    "    auc[3, i] = roc_auc_score(outcomes_boot, pred_lr[ind])\n",
    "    oe[3, i] = calc_oe(outcomes_boot, pred_lr[ind])\n",
    "    bs[3, i] = calc_bs(outcomes_boot, pred_lr[ind])"
   ]
  },
  {
   "cell_type": "code",
   "execution_count": 50,
   "metadata": {
    "collapsed": true
   },
   "outputs": [],
   "source": [
    "auc_df = pd.DataFrame(auc)\n",
    "bs_df = pd.DataFrame(bs)\n",
    "oe_df = pd.DataFrame(oe)\n",
    "auc_df.to_csv('../results/auc_boot_noise2.csv')\n",
    "oe_df.to_csv('../results/oe_boot_noise2.csv')\n",
    "bs_df.to_csv('../results/bs_boot_noise2.csv')"
   ]
  },
  {
   "cell_type": "code",
   "execution_count": null,
   "metadata": {
    "collapsed": true
   },
   "outputs": [],
   "source": []
  },
  {
   "cell_type": "code",
   "execution_count": null,
   "metadata": {
    "collapsed": true
   },
   "outputs": [],
   "source": []
  },
  {
   "cell_type": "code",
   "execution_count": null,
   "metadata": {
    "collapsed": true
   },
   "outputs": [],
   "source": []
  }
 ],
 "metadata": {
  "kernelspec": {
   "display_name": "Python 3",
   "language": "python",
   "name": "python3"
  },
  "language_info": {
   "codemirror_mode": {
    "name": "ipython",
    "version": 3
   },
   "file_extension": ".py",
   "mimetype": "text/x-python",
   "name": "python",
   "nbconvert_exporter": "python",
   "pygments_lexer": "ipython3",
   "version": "3.6.1"
  }
 },
 "nbformat": 4,
 "nbformat_minor": 2
}
