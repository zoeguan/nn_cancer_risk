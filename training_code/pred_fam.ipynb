{
 "cells": [
  {
   "cell_type": "code",
   "execution_count": 5,
   "metadata": {},
   "outputs": [
    {
     "name": "stderr",
     "output_type": "stream",
     "text": [
      "Using Theano backend.\n"
     ]
    }
   ],
   "source": [
    "from __future__ import absolute_import\n",
    "from __future__ import division\n",
    "from __future__ import print_function\n",
    "\n",
    "import numpy as np\n",
    "from sklearn.base import BaseEstimator, ClassifierMixin\n",
    "from sklearn.exceptions import NotFittedError\n",
    "from datetime import datetime\n",
    "from sklearn.preprocessing import MinMaxScaler\n",
    "\n",
    "import os\n",
    "import urllib\n",
    "\n",
    "import pandas as pd\n",
    "from sklearn.metrics import roc_auc_score\n",
    "from scipy.stats.stats import pearsonr  \n",
    "from scipy.stats.stats import spearmanr\n",
    "\n",
    "import sys\n",
    "\n",
    "import random\n",
    "\n",
    "from sklearn.linear_model import LogisticRegression\n",
    "\n",
    "os.environ['KERAS_BACKEND'] = 'theano'\n",
    "\n",
    "from keras.models import Sequential\n",
    "from keras.layers import Dense, Activation, Flatten, Reshape\n",
    "from keras.optimizers import adam, RMSprop\n",
    "from keras.regularizers import l2, l1\n",
    "from keras.callbacks import EarlyStopping, ModelCheckpoint\n",
    "from keras.layers import Dropout\n",
    "\n",
    "from graph_convolution import GraphConv\n",
    "from graph_convolution_pro import GraphConvPro\n",
    "\n",
    "import keras.backend as K\n"
   ]
  },
  {
   "cell_type": "code",
   "execution_count": 63,
   "metadata": {
    "collapsed": true
   },
   "outputs": [],
   "source": [
    "### helper functions\n",
    "\n",
    "# function for calculating calibration\n",
    "def calc_oe(y_true, y_scores):\n",
    "    return(np.sum(y_true)/np.sum(y_scores))\n",
    "\n",
    "# function for calculating Brier Score\n",
    "def calc_bs(y_true, y_scores):\n",
    "    return(np.sqrt(np.mean((y_true-y_scores)**2)))\n",
    "\n",
    "# function for calculating bootstrap CIs for AUC, calibration, Brier Score\n",
    "def boot(y_scores, y_true, nboot=200, seed_value=0):\n",
    "    np.random.seed(seed_value)\n",
    "    auc_actual = roc_auc_score(y_true, y_scores)\n",
    "    oe_actual = calc_oe(y_true, y_scores)\n",
    "    bs_actual = calc_bs(y_true, y_scores)\n",
    "    \n",
    "    \n",
    "    auc = np.zeros(nboot)\n",
    "    oe = np.zeros(nboot)\n",
    "    bs = np.zeros(nboot)\n",
    "    \n",
    "    \n",
    "    for i in range(nboot):\n",
    "        ind = np.random.choice(range(len(y_scores)), len(y_scores))\n",
    "        scores_boot = y_scores[ind]\n",
    "        outcomes_boot = y_true[ind]\n",
    "        auc[i] = roc_auc_score(outcomes_boot, scores_boot)\n",
    "        oe[i] = calc_oe(outcomes_boot, scores_boot)\n",
    "        bs[i] = calc_bs(outcomes_boot, scores_boot)\n",
    "\n",
    "    return(auc_actual, np.percentile(auc, 2.5), np.percentile(auc, 97.5),\n",
    "           oe_actual, np.percentile(oe, 2.5), np.percentile(oe, 97.5),\n",
    "           bs_actual, np.percentile(bs, 2.5), np.percentile(bs, 97.5))\n",
    "\n",
    "def boot_cor(y_scores, pred_brca, nboot=200, seed_value=0):\n",
    "    np.random.seed(seed_value)\n",
    "    cor_actual = pearsonr(y_scores, pred_brca)[0]\n",
    "    cor = np.zeros(nboot)\n",
    "\n",
    "    for i in range(nboot):\n",
    "        ind = np.random.choice(range(len(y_scores)), len(y_scores))\n",
    "        scores_boot = y_scores[ind]\n",
    "        cor[i] = pearsonr(scores_boot, pred_brca[ind])[0]\n",
    "\n",
    "    return(cor_actual, np.percentile(cor, 2.5), np.percentile(cor, 97.5))"
   ]
  },
  {
   "cell_type": "code",
   "execution_count": null,
   "metadata": {
    "collapsed": true
   },
   "outputs": [],
   "source": []
  },
  {
   "cell_type": "markdown",
   "metadata": {},
   "source": [
    "## CNN"
   ]
  },
  {
   "cell_type": "code",
   "execution_count": 70,
   "metadata": {
    "collapsed": true
   },
   "outputs": [],
   "source": [
    "### CNN input\n",
    "\n",
    "cnn_input = pd.read_csv('../nn_input/cnn_input.csv', low_memory=False)\n",
    "graph_mat = pd.read_csv('../nn_input/graph_mat.csv')\n",
    "graph_mat = np.array(graph_mat)\n",
    "num_neighbors = graph_mat.shape[1]\n",
    "\n",
    "train_size = 800000\n",
    "test_size = 87353\n",
    "start_x = 2\n",
    "end_x = 198-14\n",
    "ind_y = 210-14\n",
    "ind_brcapro = 208-14\n",
    "\n",
    "features = 7\n",
    "\n",
    "\n",
    "y_train = np.array(cnn_input.iloc[test_size:test_size+train_size, ind_y])\n",
    "y_test = np.array(cnn_input.iloc[0:test_size, ind_y])\n",
    "\n",
    "scaler2 = MinMaxScaler().fit(cnn_input.iloc[test_size:test_size+train_size, start_x:(end_x+features)])\n",
    "X_train_cnn = np.array(scaler2.transform(cnn_input.iloc[test_size:test_size+train_size, start_x:(end_x+features)]))\n",
    "X_test_cnn = np.array(scaler2.transform(cnn_input.iloc[0:test_size, start_x:(end_x+features)]))\n",
    "num_neighbors = graph_mat.shape[1]\n",
    "X_train_2 = X_train_cnn.reshape((X_train_cnn.shape[0], 27, features))\n",
    "X_test_2 = X_test_cnn.reshape((X_test_cnn.shape[0], 27, features))\n",
    "\n",
    "pred_brca = np.array(cnn_input.iloc[0:test_size, ind_brcapro])"
   ]
  },
  {
   "cell_type": "code",
   "execution_count": null,
   "metadata": {
    "collapsed": true
   },
   "outputs": [],
   "source": []
  },
  {
   "cell_type": "code",
   "execution_count": null,
   "metadata": {
    "collapsed": true
   },
   "outputs": [],
   "source": [
    "### train CNN"
   ]
  },
  {
   "cell_type": "code",
   "execution_count": 99,
   "metadata": {
    "collapsed": true
   },
   "outputs": [],
   "source": [
    "max_train = 800000\n",
    "epochs = 15\n",
    "seed_value = 0"
   ]
  },
  {
   "cell_type": "code",
   "execution_count": 100,
   "metadata": {
    "collapsed": true
   },
   "outputs": [],
   "source": [
    "os.environ['PYTHONHASHSEED'] = str(seed_value)\n",
    "random.seed(seed_value)\n",
    "np.random.seed(seed_value)\n",
    "\n",
    "g_model = Sequential()\n",
    "g_model.add(GraphConv(filters=10, neighbors_ix_mat = graph_mat, num_neighbors=num_neighbors, activation='elu', input_shape=(X_train_2.shape[1], features)))\n",
    "g_model.add(Dropout(0.2))\n",
    "g_model.add(GraphConv(filters=5, neighbors_ix_mat = graph_mat, num_neighbors=num_neighbors, activation='elu'))\n",
    "g_model.add(GraphConvPro())\n",
    "g_model.add(Flatten())\n",
    "g_model.add(Dense(1, activation='sigmoid'))\n",
    "g_model.compile(loss='mean_squared_error', optimizer='Adam')\n",
    "\n",
    "X_train_3 = X_train_2[0:max_train]\n",
    "history = g_model.fit(X_train_3.reshape(X_train_3.shape[0], X_train_3.shape[1], features),\n",
    "                          y_train[0:max_train],\n",
    "                          epochs=epochs, \n",
    "                          batch_size=512, verbose=0)"
   ]
  },
  {
   "cell_type": "code",
   "execution_count": 101,
   "metadata": {
    "collapsed": true
   },
   "outputs": [],
   "source": [
    "pred_cnn = g_model.predict(X_test_2.reshape(X_test_2.shape[0],X_test_2.shape[1],features)).flatten()"
   ]
  },
  {
   "cell_type": "code",
   "execution_count": 206,
   "metadata": {
    "collapsed": true
   },
   "outputs": [],
   "source": [
    "perf_cnn = boot(pred_cnn, y_test)\n",
    "corr_cnn = boot_cor(pred_cnn, pred_brca)\n",
    "results ={'auc': perf_cnn[0:3],\n",
    "         'oe': perf_cnn[3:6],\n",
    "         'bs': perf_cnn[6:9],\n",
    "         'corr': corr_cnn}\n",
    "\n",
    "results_df = pd.DataFrame(data=results)\n",
    "results_df.to_csv(\"../results/res_cnn_800000_15.csv\")\n"
   ]
  },
  {
   "cell_type": "code",
   "execution_count": null,
   "metadata": {
    "collapsed": true
   },
   "outputs": [],
   "source": []
  },
  {
   "cell_type": "markdown",
   "metadata": {},
   "source": [
    "## LR"
   ]
  },
  {
   "cell_type": "code",
   "execution_count": 21,
   "metadata": {
    "collapsed": true
   },
   "outputs": [],
   "source": [
    "nn_input = pd.read_csv('../nn_input/nn_input.csv', low_memory=False)\n",
    "\n",
    "train_size = 800000\n",
    "test_size = 87353\n",
    "start_x = 2\n",
    "end_x = 198-14\n",
    "ind_y = 202+1-14\n",
    "ind_brcapro = 200+1-14\n",
    "pred_brca = np.array(nn_input.iloc[0:test_size, ind_brcapro])\n",
    "\n",
    "scaler = MinMaxScaler().fit(nn_input.iloc[test_size:test_size+train_size, start_x:end_x])\n",
    "scaler = MinMaxScaler().fit(nn_input.iloc[test_size:test_size+train_size, start_x:end_x])\n",
    "X_train = np.array(scaler.transform(nn_input.iloc[test_size:test_size+train_size, start_x:end_x]))\n",
    "y_train = np.array(nn_input.iloc[test_size:test_size+train_size, ind_y])\n",
    "\n",
    "X_test = np.array(scaler.transform(nn_input.iloc[0:test_size, start_x:end_x]))\n",
    "y_test = np.array(nn_input.iloc[0:test_size, ind_y])"
   ]
  },
  {
   "cell_type": "code",
   "execution_count": 81,
   "metadata": {},
   "outputs": [
    {
     "data": {
      "text/plain": [
       "LogisticRegression(C=100000, class_weight=None, dual=False,\n",
       "          fit_intercept=True, intercept_scaling=1, max_iter=100,\n",
       "          multi_class='ovr', n_jobs=1, penalty='l2', random_state=None,\n",
       "          solver='liblinear', tol=0.0001, verbose=0, warm_start=False)"
      ]
     },
     "execution_count": 81,
     "metadata": {},
     "output_type": "execute_result"
    }
   ],
   "source": [
    "LR = LogisticRegression(C=100000)\n",
    "LR.fit(X_train, y_train)"
   ]
  },
  {
   "cell_type": "code",
   "execution_count": null,
   "metadata": {
    "collapsed": true
   },
   "outputs": [],
   "source": [
    "predictions_LR_list = list(LR.predict_proba(X_test))\n",
    "pred_lr = np.array([p[1] for p in predictions_LR_list])"
   ]
  },
  {
   "cell_type": "code",
   "execution_count": null,
   "metadata": {},
   "outputs": [],
   "source": []
  },
  {
   "cell_type": "code",
   "execution_count": 97,
   "metadata": {
    "collapsed": true
   },
   "outputs": [],
   "source": [
    "perf_brca = boot(pred_brca, y_test)"
   ]
  },
  {
   "cell_type": "code",
   "execution_count": 98,
   "metadata": {
    "collapsed": true
   },
   "outputs": [],
   "source": [
    "results_brca ={'auc': perf_brca[0:3],\n",
    "         'oe': perf_brca[3:6],\n",
    "         'bs': perf_brca[6:9]}\n",
    "\n",
    "results_brca_df = pd.DataFrame(data=results_brca)\n",
    "results_brca_df.to_csv(\"../results/res_brca.csv\")"
   ]
  },
  {
   "cell_type": "code",
   "execution_count": 99,
   "metadata": {
    "collapsed": true
   },
   "outputs": [],
   "source": [
    "perf_lr = boot(pred_lr, y_test)\n",
    "corr_lr = boot_cor(pred_lr, pred_brca)"
   ]
  },
  {
   "cell_type": "code",
   "execution_count": 100,
   "metadata": {
    "collapsed": true
   },
   "outputs": [],
   "source": [
    "results ={'auc': perf_lr[0:3],\n",
    "         'oe': perf_lr[3:6],\n",
    "         'bs': perf_lr[6:9],\n",
    "         'corr': corr_lr}\n",
    "\n",
    "results_df = pd.DataFrame(data=results)\n",
    "results_df.to_csv(\"../results/res_lr.csv\")"
   ]
  },
  {
   "cell_type": "code",
   "execution_count": null,
   "metadata": {
    "collapsed": true
   },
   "outputs": [],
   "source": []
  },
  {
   "cell_type": "markdown",
   "metadata": {
    "collapsed": true
   },
   "source": [
    "## FCNN"
   ]
  },
  {
   "cell_type": "code",
   "execution_count": 239,
   "metadata": {
    "collapsed": true
   },
   "outputs": [],
   "source": [
    "from keras.models import load_model\n",
    "fcnn = load_model(\"fcnn_800000_30_0.h5\")"
   ]
  },
  {
   "cell_type": "code",
   "execution_count": 240,
   "metadata": {
    "collapsed": true
   },
   "outputs": [],
   "source": [
    "pred_fcnn = fcnn.predict(X_test).flatten()"
   ]
  },
  {
   "cell_type": "code",
   "execution_count": 241,
   "metadata": {
    "collapsed": true
   },
   "outputs": [],
   "source": [
    "perf_fcnn = boot(pred_fcnn, y_test)\n",
    "corr_fcnn = boot_cor(pred_fcnn, pred_brca)"
   ]
  },
  {
   "cell_type": "code",
   "execution_count": 242,
   "metadata": {
    "collapsed": true
   },
   "outputs": [],
   "source": [
    "results ={'auc': perf_fcnn[0:3],\n",
    "         'oe': perf_fcnn[3:6],\n",
    "         'bs': perf_fcnn[6:9],\n",
    "         'corr': corr_fcnn}\n",
    "\n",
    "results_df = pd.DataFrame(data=results)\n",
    "results_df.to_csv(\"../results/res_fcnn_800000_30_0.csv\")"
   ]
  },
  {
   "cell_type": "code",
   "execution_count": null,
   "metadata": {},
   "outputs": [],
   "source": []
  },
  {
   "cell_type": "code",
   "execution_count": null,
   "metadata": {
    "collapsed": true
   },
   "outputs": [],
   "source": []
  },
  {
   "cell_type": "code",
   "execution_count": 269,
   "metadata": {
    "collapsed": true
   },
   "outputs": [],
   "source": [
    "### save all predictions\n",
    "\n",
    "predictions = {\"fcnn\": pred_fcnn,\n",
    "               \"cnn\": pred_cnn,\n",
    "               \"lr\": pred_lr,\n",
    "              \"brcapro\": pred_brca}\n",
    "\n",
    "pred_df = pd.DataFrame(data=predictions)\n",
    "pred_df.to_csv('../results/pred_all.csv')"
   ]
  },
  {
   "cell_type": "code",
   "execution_count": null,
   "metadata": {
    "collapsed": true
   },
   "outputs": [],
   "source": []
  },
  {
   "cell_type": "markdown",
   "metadata": {
    "collapsed": true
   },
   "source": [
    "## bootstrap replicates "
   ]
  },
  {
   "cell_type": "code",
   "execution_count": 245,
   "metadata": {
    "collapsed": true
   },
   "outputs": [],
   "source": [
    "nboot = 1000\n",
    "oe = np.zeros((4, nboot))\n",
    "auc = np.zeros((4, nboot))\n",
    "bs = np.zeros((4, nboot))\n",
    "corr = np.zeros((4, nboot))"
   ]
  },
  {
   "cell_type": "code",
   "execution_count": 246,
   "metadata": {
    "collapsed": true
   },
   "outputs": [],
   "source": [
    "np.random.seed(0)\n",
    "for i in range(nboot):\n",
    "    ind = np.random.choice(range(len(y_test)), len(y_test))\n",
    "    outcomes_boot = y_test[ind]\n",
    "    \n",
    "    auc[0, i] = roc_auc_score(outcomes_boot, pred_fcnn[ind])\n",
    "    oe[0, i] = calc_oe(outcomes_boot, pred_fcnn[ind])\n",
    "    bs[0, i] = calc_bs(outcomes_boot, pred_fcnn[ind])\n",
    "    corr[0, i] = pearsonr(pred_fcnn[ind], pred_brca[ind])[0]\n",
    "    \n",
    "    auc[1, i] = roc_auc_score(outcomes_boot, pred_cnn[ind])\n",
    "    oe[1, i] = calc_oe(outcomes_boot, pred_cnn[ind])\n",
    "    bs[1, i] = calc_bs(outcomes_boot, pred_cnn[ind])\n",
    "    corr[1, i] = pearsonr(pred_cnn[ind], pred_brca[ind])[0]\n",
    "    \n",
    "    auc[2, i] = roc_auc_score(outcomes_boot, pred_brca[ind])\n",
    "    oe[2, i] = calc_oe(outcomes_boot, pred_brca[ind])\n",
    "    bs[2, i] = calc_bs(outcomes_boot, pred_brca[ind])\n",
    "    corr[2, i] = 1\n",
    "    \n",
    "    auc[3, i] = roc_auc_score(outcomes_boot, pred_lr[ind])\n",
    "    oe[3, i] = calc_oe(outcomes_boot, pred_lr[ind])\n",
    "    bs[3, i] = calc_bs(outcomes_boot, pred_lr[ind])\n",
    "    corr[3, i] = pearsonr(pred_lr[ind], pred_brca[ind])[0]"
   ]
  },
  {
   "cell_type": "code",
   "execution_count": 249,
   "metadata": {},
   "outputs": [
    {
     "data": {
      "text/plain": [
       "0.69099999999999995"
      ]
     },
     "execution_count": 249,
     "metadata": {},
     "output_type": "execute_result"
    }
   ],
   "source": [
    "np.mean(abs(oe[1,]-1) < abs(oe[2,]-1))"
   ]
  },
  {
   "cell_type": "code",
   "execution_count": 248,
   "metadata": {
    "collapsed": true
   },
   "outputs": [],
   "source": [
    "auc_df = pd.DataFrame(auc)\n",
    "bs_df = pd.DataFrame(bs)\n",
    "oe_df = pd.DataFrame(oe)\n",
    "corr_df = pd.DataFrame(corr)\n",
    "auc_df.to_csv('../results/auc_boot.csv')\n",
    "oe_df.to_csv('../results/oe_boot.csv')\n",
    "bs_df.to_csv('../results/bs_boot.csv')\n",
    "corr_df.to_csv('../results/corr_boot.csv')"
   ]
  },
  {
   "cell_type": "code",
   "execution_count": null,
   "metadata": {
    "collapsed": true
   },
   "outputs": [],
   "source": []
  },
  {
   "cell_type": "markdown",
   "metadata": {
    "collapsed": true
   },
   "source": [
    "## predictions for example family"
   ]
  },
  {
   "cell_type": "code",
   "execution_count": 390,
   "metadata": {},
   "outputs": [
    {
     "data": {
      "text/plain": [
       "array([ 0.01700095,  0.01776796,  0.01927661,  0.03373488,  0.0931378 ,\n",
       "        0.09532705], dtype=float32)"
      ]
     },
     "execution_count": 390,
     "metadata": {},
     "output_type": "execute_result"
    }
   ],
   "source": [
    "fam_input_cnn = pd.read_csv('../nn_input/example_family_cnn.csv', low_memory=False)\n",
    "\n",
    "train_size = 800000\n",
    "test_size = 87353\n",
    "start_x = 2\n",
    "end_x = 198-14\n",
    "ind_y = 210-14\n",
    "ind_brcapro = 208-14\n",
    "\n",
    "features = 7\n",
    "\n",
    "fam_cnn = np.array(scaler2.transform(fam_input_cnn.iloc[:, start_x:(end_x+features)]))\n",
    "pred_brca_fam = np.array(fam_input_cnn.iloc[0:test_size, ind_brcapro])\n",
    "fam_cnn = fam_cnn.reshape((fam_cnn .shape[0], 27, features))\n",
    "\n",
    "pred_cnn_fam = g_model.predict(fam_cnn.reshape(fam_cnn.shape[0],fam_cnn.shape[1],features)).flatten()\n",
    "pred_cnn_fam "
   ]
  },
  {
   "cell_type": "code",
   "execution_count": 391,
   "metadata": {},
   "outputs": [
    {
     "data": {
      "text/plain": [
       "array([ 0.01788288,  0.01838861,  0.0204805 ,  0.03744385,  0.09784033,\n",
       "        0.09872667], dtype=float32)"
      ]
     },
     "execution_count": 391,
     "metadata": {},
     "output_type": "execute_result"
    }
   ],
   "source": [
    "nn_input_fam = pd.read_csv(\"../nn_input/example_family.csv\")\n",
    "\n",
    "train_size = 800000\n",
    "test_size = 87353\n",
    "start_x = 2\n",
    "end_x = 198-14\n",
    "ind_y = 202+1-14\n",
    "ind_brcapro = 200+1-14\n",
    "\n",
    "fam_fcnn = np.array(scaler.transform(nn_input_fam.iloc[:, start_x:end_x]))\n",
    "\n",
    "pred_lr_fam = np.array([p[1] for p in list(LR.predict_proba(fam_fcnn))])\n",
    "\n",
    "pred_fcnn_fam = fcnn.predict(fam_fcnn).flatten()\n",
    "pred_fcnn_fam "
   ]
  },
  {
   "cell_type": "code",
   "execution_count": 392,
   "metadata": {},
   "outputs": [
    {
     "name": "stdout",
     "output_type": "stream",
     "text": [
      "[ 0.01854325  0.01899658  0.01926354  0.03444866  0.09143321  0.09370447]\n",
      "[ 0.01788288  0.01838861  0.0204805   0.03744385  0.09784033  0.09872667]\n",
      "[ 0.01700095  0.01776796  0.01927661  0.03373488  0.0931378   0.09532705]\n",
      "[ 0.01683329  0.01716607  0.0184525   0.02623617  0.05181308  0.05554922]\n"
     ]
    }
   ],
   "source": [
    "print(pred_brca_fam)\n",
    "print(pred_fcnn_fam)\n",
    "print(pred_cnn_fam)\n",
    "print(pred_lr_fam)"
   ]
  },
  {
   "cell_type": "code",
   "execution_count": 393,
   "metadata": {
    "collapsed": true
   },
   "outputs": [],
   "source": [
    "results_brca ={'brcapro': pred_brca_fam,\n",
    "         'cnn': pred_cnn_fam,\n",
    "         'fcnn': pred_fcnn_fam,\n",
    "              'lr': pred_lr_fam}\n",
    "\n",
    "results_brca_df = pd.DataFrame(data=results_brca)\n",
    "results_brca_df.to_csv(\"../results/fam_pred.csv\")"
   ]
  },
  {
   "cell_type": "code",
   "execution_count": null,
   "metadata": {
    "collapsed": true
   },
   "outputs": [],
   "source": []
  },
  {
   "cell_type": "code",
   "execution_count": null,
   "metadata": {
    "collapsed": true
   },
   "outputs": [],
   "source": []
  },
  {
   "cell_type": "code",
   "execution_count": null,
   "metadata": {
    "collapsed": true
   },
   "outputs": [],
   "source": []
  }
 ],
 "metadata": {
  "kernelspec": {
   "display_name": "Python 3",
   "language": "python",
   "name": "python3"
  },
  "language_info": {
   "codemirror_mode": {
    "name": "ipython",
    "version": 3
   },
   "file_extension": ".py",
   "mimetype": "text/x-python",
   "name": "python",
   "nbconvert_exporter": "python",
   "pygments_lexer": "ipython3",
   "version": "3.6.1"
  }
 },
 "nbformat": 4,
 "nbformat_minor": 2
}
